{
  "cells": [
    {
      "cell_type": "markdown",
      "metadata": {
        "id": "view-in-github",
        "colab_type": "text"
      },
      "source": [
        "<a href=\"https://colab.research.google.com/github/danrleymontalvao/gemini_app_review/blob/main/app_review.ipynb\" target=\"_parent\"><img src=\"https://colab.research.google.com/assets/colab-badge.svg\" alt=\"Open In Colab\"/></a>"
      ]
    },
    {
      "cell_type": "markdown",
      "id": "855c8a50-ab95-495f-ae83-73747eaea7b5",
      "metadata": {
        "id": "855c8a50-ab95-495f-ae83-73747eaea7b5"
      },
      "source": [
        "### Instalação e Importação dos Pacotes Utilizados"
      ]
    },
    {
      "cell_type": "code",
      "execution_count": null,
      "id": "846a3fc8-88bc-4d8a-afea-7ef5a297ad9d",
      "metadata": {
        "id": "846a3fc8-88bc-4d8a-afea-7ef5a297ad9d"
      },
      "outputs": [],
      "source": [
        "!pip install -U -qq google-play-scraper"
      ]
    },
    {
      "cell_type": "code",
      "execution_count": null,
      "id": "75a45a86-e571-49d2-905f-191b0b25358a",
      "metadata": {
        "id": "75a45a86-e571-49d2-905f-191b0b25358a"
      },
      "outputs": [],
      "source": [
        "!pip install -U -qq google-generativeai"
      ]
    },
    {
      "cell_type": "code",
      "execution_count": null,
      "id": "e1ed50c1-ea17-4eea-97f2-d9751954c6a7",
      "metadata": {
        "id": "e1ed50c1-ea17-4eea-97f2-d9751954c6a7"
      },
      "outputs": [],
      "source": [
        "import pandas as pd\n",
        "import numpy as np\n",
        "import matplotlib.pyplot as plt\n",
        "import seaborn as sns\n",
        "from google_play_scraper import Sort, reviews_all, reviews\n",
        "import google.generativeai as genai"
      ]
    },
    {
      "cell_type": "markdown",
      "id": "66d58e04-aa76-4a3a-a59f-d4cbc86b32b9",
      "metadata": {
        "id": "66d58e04-aa76-4a3a-a59f-d4cbc86b32b9"
      },
      "source": [
        "### Extração e Tratamento dos Dados"
      ]
    },
    {
      "cell_type": "code",
      "execution_count": null,
      "id": "acaeb65a-6c93-4f14-b9b6-b21c710ebf6a",
      "metadata": {
        "id": "acaeb65a-6c93-4f14-b9b6-b21c710ebf6a"
      },
      "outputs": [],
      "source": [
        "#Importando e apresentando os dados de reviews do app Meu SUS na Play Store\n",
        "\n",
        "result = reviews_all(\n",
        "'br.gov.datasus.cnsdigital', # id do app\n",
        "sleep_milliseconds=0,\n",
        "lang='pt-br', # língua das avaliações\n",
        "country='br', # país das avaliações\n",
        "sort=Sort.NEWEST, # ordenação dos dados\n",
        "filter_score_with=None # filtrar por escore\n",
        ")"
      ]
    },
    {
      "cell_type": "code",
      "execution_count": null,
      "id": "084b6612-6bb5-469a-8c76-89ff58331283",
      "metadata": {
        "id": "084b6612-6bb5-469a-8c76-89ff58331283",
        "outputId": "05f95f4b-9823-4f89-a1b0-c58e763a92a9"
      },
      "outputs": [
        {
          "data": {
            "text/plain": [
              "(796, 11)"
            ]
          },
          "execution_count": 3,
          "metadata": {},
          "output_type": "execute_result"
        }
      ],
      "source": [
        "df= pd.DataFrame(result)\n",
        "df.shape"
      ]
    },
    {
      "cell_type": "code",
      "execution_count": null,
      "id": "39525d1f-27a5-4e5e-9b7f-6be9fb8e37f3",
      "metadata": {
        "id": "39525d1f-27a5-4e5e-9b7f-6be9fb8e37f3",
        "outputId": "b8a873b4-0db2-46f0-ada7-8a9beeb0c294"
      },
      "outputs": [
        {
          "data": {
            "text/html": [
              "<div>\n",
              "<style scoped>\n",
              "    .dataframe tbody tr th:only-of-type {\n",
              "        vertical-align: middle;\n",
              "    }\n",
              "\n",
              "    .dataframe tbody tr th {\n",
              "        vertical-align: top;\n",
              "    }\n",
              "\n",
              "    .dataframe thead th {\n",
              "        text-align: right;\n",
              "    }\n",
              "</style>\n",
              "<table border=\"1\" class=\"dataframe\">\n",
              "  <thead>\n",
              "    <tr style=\"text-align: right;\">\n",
              "      <th></th>\n",
              "      <th>reviewId</th>\n",
              "      <th>userName</th>\n",
              "      <th>userImage</th>\n",
              "      <th>content</th>\n",
              "      <th>score</th>\n",
              "      <th>thumbsUpCount</th>\n",
              "      <th>reviewCreatedVersion</th>\n",
              "      <th>at</th>\n",
              "      <th>replyContent</th>\n",
              "      <th>repliedAt</th>\n",
              "      <th>appVersion</th>\n",
              "    </tr>\n",
              "  </thead>\n",
              "  <tbody>\n",
              "    <tr>\n",
              "      <th>0</th>\n",
              "      <td>e8112d55-2da5-42b4-9b32-a9d1536369ed</td>\n",
              "      <td>Badu Rodrigues</td>\n",
              "      <td>https://play-lh.googleusercontent.com/a-/ALV-U...</td>\n",
              "      <td>Vive dando erro quando queremos exportar algum...</td>\n",
              "      <td>3</td>\n",
              "      <td>0</td>\n",
              "      <td>73.13.01</td>\n",
              "      <td>2024-05-13 00:35:12</td>\n",
              "      <td>None</td>\n",
              "      <td>NaT</td>\n",
              "      <td>73.13.01</td>\n",
              "    </tr>\n",
              "    <tr>\n",
              "      <th>1</th>\n",
              "      <td>b944e35c-45fe-4d26-80c0-a5eb118f6b11</td>\n",
              "      <td>Manu Souza</td>\n",
              "      <td>https://play-lh.googleusercontent.com/a-/ALV-U...</td>\n",
              "      <td>O aplicativo e bom,mas está dando erro pra bai...</td>\n",
              "      <td>2</td>\n",
              "      <td>0</td>\n",
              "      <td>73.13.01</td>\n",
              "      <td>2024-05-12 18:26:09</td>\n",
              "      <td>None</td>\n",
              "      <td>NaT</td>\n",
              "      <td>73.13.01</td>\n",
              "    </tr>\n",
              "    <tr>\n",
              "      <th>2</th>\n",
              "      <td>56898b9c-0479-42e9-a040-2de85e0a51db</td>\n",
              "      <td>Aline</td>\n",
              "      <td>https://play-lh.googleusercontent.com/a-/ALV-U...</td>\n",
              "      <td>Não está gerando o certificado de vacinação em...</td>\n",
              "      <td>3</td>\n",
              "      <td>0</td>\n",
              "      <td>73.13.01</td>\n",
              "      <td>2024-05-12 15:18:29</td>\n",
              "      <td>None</td>\n",
              "      <td>NaT</td>\n",
              "      <td>73.13.01</td>\n",
              "    </tr>\n",
              "    <tr>\n",
              "      <th>3</th>\n",
              "      <td>4a456568-0f41-48e1-8aae-f87c8d293179</td>\n",
              "      <td>Js Moniz</td>\n",
              "      <td>https://play-lh.googleusercontent.com/a/ACg8oc...</td>\n",
              "      <td>✓ \"SRS INCOMPETENTES DEBOCHADOS !\" ✓\"PARECE DE...</td>\n",
              "      <td>1</td>\n",
              "      <td>2</td>\n",
              "      <td>73.13.00</td>\n",
              "      <td>2024-05-12 14:58:02</td>\n",
              "      <td>Olá!\\n\\nAgradecemos a informação e lamentamos ...</td>\n",
              "      <td>2023-06-07 15:10:08</td>\n",
              "      <td>73.13.00</td>\n",
              "    </tr>\n",
              "    <tr>\n",
              "      <th>4</th>\n",
              "      <td>4755f943-afd5-4220-8184-5a1e2b9264c2</td>\n",
              "      <td>Isaias Antonio</td>\n",
              "      <td>https://play-lh.googleusercontent.com/a/ACg8oc...</td>\n",
              "      <td>Muito bom, fácil de manusear!</td>\n",
              "      <td>5</td>\n",
              "      <td>0</td>\n",
              "      <td>73.13.01</td>\n",
              "      <td>2024-05-12 14:42:39</td>\n",
              "      <td>None</td>\n",
              "      <td>NaT</td>\n",
              "      <td>73.13.01</td>\n",
              "    </tr>\n",
              "  </tbody>\n",
              "</table>\n",
              "</div>"
            ],
            "text/plain": [
              "                               reviewId        userName  \\\n",
              "0  e8112d55-2da5-42b4-9b32-a9d1536369ed  Badu Rodrigues   \n",
              "1  b944e35c-45fe-4d26-80c0-a5eb118f6b11      Manu Souza   \n",
              "2  56898b9c-0479-42e9-a040-2de85e0a51db           Aline   \n",
              "3  4a456568-0f41-48e1-8aae-f87c8d293179        Js Moniz   \n",
              "4  4755f943-afd5-4220-8184-5a1e2b9264c2  Isaias Antonio   \n",
              "\n",
              "                                           userImage  \\\n",
              "0  https://play-lh.googleusercontent.com/a-/ALV-U...   \n",
              "1  https://play-lh.googleusercontent.com/a-/ALV-U...   \n",
              "2  https://play-lh.googleusercontent.com/a-/ALV-U...   \n",
              "3  https://play-lh.googleusercontent.com/a/ACg8oc...   \n",
              "4  https://play-lh.googleusercontent.com/a/ACg8oc...   \n",
              "\n",
              "                                             content  score  thumbsUpCount  \\\n",
              "0  Vive dando erro quando queremos exportar algum...      3              0   \n",
              "1  O aplicativo e bom,mas está dando erro pra bai...      2              0   \n",
              "2  Não está gerando o certificado de vacinação em...      3              0   \n",
              "3  ✓ \"SRS INCOMPETENTES DEBOCHADOS !\" ✓\"PARECE DE...      1              2   \n",
              "4                      Muito bom, fácil de manusear!      5              0   \n",
              "\n",
              "  reviewCreatedVersion                  at  \\\n",
              "0             73.13.01 2024-05-13 00:35:12   \n",
              "1             73.13.01 2024-05-12 18:26:09   \n",
              "2             73.13.01 2024-05-12 15:18:29   \n",
              "3             73.13.00 2024-05-12 14:58:02   \n",
              "4             73.13.01 2024-05-12 14:42:39   \n",
              "\n",
              "                                        replyContent           repliedAt  \\\n",
              "0                                               None                 NaT   \n",
              "1                                               None                 NaT   \n",
              "2                                               None                 NaT   \n",
              "3  Olá!\\n\\nAgradecemos a informação e lamentamos ... 2023-06-07 15:10:08   \n",
              "4                                               None                 NaT   \n",
              "\n",
              "  appVersion  \n",
              "0   73.13.01  \n",
              "1   73.13.01  \n",
              "2   73.13.01  \n",
              "3   73.13.00  \n",
              "4   73.13.01  "
            ]
          },
          "execution_count": 4,
          "metadata": {},
          "output_type": "execute_result"
        }
      ],
      "source": [
        "df.head()"
      ]
    },
    {
      "cell_type": "code",
      "execution_count": null,
      "id": "a300d445-8156-49a5-a14e-edeb7fce7761",
      "metadata": {
        "id": "a300d445-8156-49a5-a14e-edeb7fce7761",
        "outputId": "9150b9db-51d4-4cf3-ade2-04fbdf825f5d"
      },
      "outputs": [
        {
          "name": "stdout",
          "output_type": "stream",
          "text": [
            "<class 'pandas.core.frame.DataFrame'>\n",
            "RangeIndex: 796 entries, 0 to 795\n",
            "Data columns (total 11 columns):\n",
            " #   Column                Non-Null Count  Dtype         \n",
            "---  ------                --------------  -----         \n",
            " 0   reviewId              796 non-null    object        \n",
            " 1   userName              796 non-null    object        \n",
            " 2   userImage             796 non-null    object        \n",
            " 3   content               796 non-null    object        \n",
            " 4   score                 796 non-null    int64         \n",
            " 5   thumbsUpCount         796 non-null    int64         \n",
            " 6   reviewCreatedVersion  705 non-null    object        \n",
            " 7   at                    796 non-null    datetime64[ns]\n",
            " 8   replyContent          7 non-null      object        \n",
            " 9   repliedAt             7 non-null      datetime64[ns]\n",
            " 10  appVersion            705 non-null    object        \n",
            "dtypes: datetime64[ns](2), int64(2), object(7)\n",
            "memory usage: 68.5+ KB\n"
          ]
        }
      ],
      "source": [
        "df.info()"
      ]
    },
    {
      "cell_type": "code",
      "execution_count": null,
      "id": "57d29e3e-6bca-4b9b-a0ca-6d8ffd861741",
      "metadata": {
        "id": "57d29e3e-6bca-4b9b-a0ca-6d8ffd861741"
      },
      "outputs": [],
      "source": [
        "df = df[['reviewId', 'content', 'score', 'at', 'appVersion']]"
      ]
    },
    {
      "cell_type": "code",
      "execution_count": null,
      "id": "851f577b-41aa-4a4a-971b-46487e30b78d",
      "metadata": {
        "id": "851f577b-41aa-4a4a-971b-46487e30b78d"
      },
      "outputs": [],
      "source": [
        "df['at'] = df['at'].dt.strftime('%m/%d/%Y')"
      ]
    },
    {
      "cell_type": "code",
      "execution_count": null,
      "id": "04250c57-1b02-4b05-9d81-459e698e892b",
      "metadata": {
        "id": "04250c57-1b02-4b05-9d81-459e698e892b",
        "outputId": "ec0cdb47-f6c7-462d-ca7a-247480510a08"
      },
      "outputs": [
        {
          "data": {
            "text/html": [
              "<div>\n",
              "<style scoped>\n",
              "    .dataframe tbody tr th:only-of-type {\n",
              "        vertical-align: middle;\n",
              "    }\n",
              "\n",
              "    .dataframe tbody tr th {\n",
              "        vertical-align: top;\n",
              "    }\n",
              "\n",
              "    .dataframe thead th {\n",
              "        text-align: right;\n",
              "    }\n",
              "</style>\n",
              "<table border=\"1\" class=\"dataframe\">\n",
              "  <thead>\n",
              "    <tr style=\"text-align: right;\">\n",
              "      <th></th>\n",
              "      <th>reviewId</th>\n",
              "      <th>content</th>\n",
              "      <th>score</th>\n",
              "      <th>at</th>\n",
              "      <th>appVersion</th>\n",
              "    </tr>\n",
              "  </thead>\n",
              "  <tbody>\n",
              "    <tr>\n",
              "      <th>0</th>\n",
              "      <td>e8112d55-2da5-42b4-9b32-a9d1536369ed</td>\n",
              "      <td>Vive dando erro quando queremos exportar algum...</td>\n",
              "      <td>3</td>\n",
              "      <td>05/13/2024</td>\n",
              "      <td>73.13.01</td>\n",
              "    </tr>\n",
              "    <tr>\n",
              "      <th>1</th>\n",
              "      <td>b944e35c-45fe-4d26-80c0-a5eb118f6b11</td>\n",
              "      <td>O aplicativo e bom,mas está dando erro pra bai...</td>\n",
              "      <td>2</td>\n",
              "      <td>05/12/2024</td>\n",
              "      <td>73.13.01</td>\n",
              "    </tr>\n",
              "    <tr>\n",
              "      <th>2</th>\n",
              "      <td>56898b9c-0479-42e9-a040-2de85e0a51db</td>\n",
              "      <td>Não está gerando o certificado de vacinação em...</td>\n",
              "      <td>3</td>\n",
              "      <td>05/12/2024</td>\n",
              "      <td>73.13.01</td>\n",
              "    </tr>\n",
              "    <tr>\n",
              "      <th>3</th>\n",
              "      <td>4a456568-0f41-48e1-8aae-f87c8d293179</td>\n",
              "      <td>✓ \"SRS INCOMPETENTES DEBOCHADOS !\" ✓\"PARECE DE...</td>\n",
              "      <td>1</td>\n",
              "      <td>05/12/2024</td>\n",
              "      <td>73.13.00</td>\n",
              "    </tr>\n",
              "    <tr>\n",
              "      <th>4</th>\n",
              "      <td>4755f943-afd5-4220-8184-5a1e2b9264c2</td>\n",
              "      <td>Muito bom, fácil de manusear!</td>\n",
              "      <td>5</td>\n",
              "      <td>05/12/2024</td>\n",
              "      <td>73.13.01</td>\n",
              "    </tr>\n",
              "  </tbody>\n",
              "</table>\n",
              "</div>"
            ],
            "text/plain": [
              "                               reviewId  \\\n",
              "0  e8112d55-2da5-42b4-9b32-a9d1536369ed   \n",
              "1  b944e35c-45fe-4d26-80c0-a5eb118f6b11   \n",
              "2  56898b9c-0479-42e9-a040-2de85e0a51db   \n",
              "3  4a456568-0f41-48e1-8aae-f87c8d293179   \n",
              "4  4755f943-afd5-4220-8184-5a1e2b9264c2   \n",
              "\n",
              "                                             content  score          at  \\\n",
              "0  Vive dando erro quando queremos exportar algum...      3  05/13/2024   \n",
              "1  O aplicativo e bom,mas está dando erro pra bai...      2  05/12/2024   \n",
              "2  Não está gerando o certificado de vacinação em...      3  05/12/2024   \n",
              "3  ✓ \"SRS INCOMPETENTES DEBOCHADOS !\" ✓\"PARECE DE...      1  05/12/2024   \n",
              "4                      Muito bom, fácil de manusear!      5  05/12/2024   \n",
              "\n",
              "  appVersion  \n",
              "0   73.13.01  \n",
              "1   73.13.01  \n",
              "2   73.13.01  \n",
              "3   73.13.00  \n",
              "4   73.13.01  "
            ]
          },
          "execution_count": 8,
          "metadata": {},
          "output_type": "execute_result"
        }
      ],
      "source": [
        "df.head()"
      ]
    },
    {
      "cell_type": "markdown",
      "id": "21ea2517-a5f5-4db9-b576-99efd04d8dae",
      "metadata": {
        "id": "21ea2517-a5f5-4db9-b576-99efd04d8dae"
      },
      "source": [
        "### Importando o Gemini"
      ]
    },
    {
      "cell_type": "code",
      "execution_count": null,
      "id": "c5e1e77f-e99c-4d16-817a-5e666ac6d45c",
      "metadata": {
        "id": "c5e1e77f-e99c-4d16-817a-5e666ac6d45c"
      },
      "outputs": [],
      "source": [
        "#Pegando a chave da API\n",
        "with open(\"gemini_api.txt\", \"r\") as f:\n",
        "    acesso = f.read().strip()\n",
        "\n",
        "chave, valor = acesso.split(\":\")"
      ]
    },
    {
      "cell_type": "code",
      "execution_count": null,
      "id": "0b1785df-3aed-40ad-9b34-32552b93f2b3",
      "metadata": {
        "id": "0b1785df-3aed-40ad-9b34-32552b93f2b3",
        "outputId": "04ed8a28-557c-40f1-f590-c4ebd847fbde"
      },
      "outputs": [
        {
          "name": "stdout",
          "output_type": "stream",
          "text": [
            "models/gemini-1.0-pro\n",
            "models/gemini-1.0-pro-001\n",
            "models/gemini-1.0-pro-latest\n",
            "models/gemini-1.0-pro-vision-latest\n",
            "models/gemini-1.5-pro-latest\n",
            "models/gemini-pro\n",
            "models/gemini-pro-vision\n"
          ]
        }
      ],
      "source": [
        "#Listando os modelos disponíveis\n",
        "for m in genai.list_models():\n",
        "    if 'generateContent' in m.supported_generation_methods:\n",
        "        print(m.name)"
      ]
    },
    {
      "cell_type": "code",
      "execution_count": null,
      "id": "cf6e1355-56e5-441a-9e64-759ee70f2255",
      "metadata": {
        "id": "cf6e1355-56e5-441a-9e64-759ee70f2255"
      },
      "outputs": [],
      "source": [
        "genai.configure(api_key=valor)\n",
        "\n",
        "# Configurando os parâmetros do modelo\n",
        "generation_config = {\n",
        "  \"temperature\": 0.5,\n",
        "  \"top_p\": 0.95,\n",
        "  \"top_k\": 0,\n",
        "  \"max_output_tokens\": 8192,\n",
        "}\n",
        "\n",
        "#Configuraçóes de segurança\n",
        "safety_settings = [\n",
        "  {\n",
        "    \"category\": \"HARM_CATEGORY_HARASSMENT\",\n",
        "    \"threshold\": \"BLOCK_MEDIUM_AND_ABOVE\"\n",
        "  },\n",
        "  {\n",
        "    \"category\": \"HARM_CATEGORY_HATE_SPEECH\",\n",
        "    \"threshold\": \"BLOCK_MEDIUM_AND_ABOVE\"\n",
        "  },\n",
        "  {\n",
        "    \"category\": \"HARM_CATEGORY_SEXUALLY_EXPLICIT\",\n",
        "    \"threshold\": \"BLOCK_MEDIUM_AND_ABOVE\"\n",
        "  },\n",
        "  {\n",
        "    \"category\": \"HARM_CATEGORY_DANGEROUS_CONTENT\",\n",
        "    \"threshold\": \"BLOCK_MEDIUM_AND_ABOVE\"\n",
        "  },\n",
        "]\n",
        "\n",
        "#Inicializando o modelo.\n",
        "model = genai.GenerativeModel(model_name=\"gemini-1.5-pro-latest\",\n",
        "                              generation_config=generation_config,\n",
        "                              safety_settings=safety_settings)"
      ]
    },
    {
      "cell_type": "markdown",
      "id": "6d0ce33f-f607-48dc-923a-a13703a97a73",
      "metadata": {
        "id": "6d0ce33f-f607-48dc-923a-a13703a97a73"
      },
      "source": [
        "## Análise dos Dados"
      ]
    },
    {
      "cell_type": "code",
      "execution_count": null,
      "id": "86a474ed-4918-4dd9-b930-cfb2cb9f5cf8",
      "metadata": {
        "id": "86a474ed-4918-4dd9-b930-cfb2cb9f5cf8",
        "outputId": "1d22d8c0-b320-4562-ecf3-159b426f9b75"
      },
      "outputs": [
        {
          "data": {
            "text/plain": [
              "481"
            ]
          },
          "execution_count": 15,
          "metadata": {},
          "output_type": "execute_result"
        }
      ],
      "source": [
        "promotores = df[(df['score'] == 4) | (df['score'] == 5)]\n",
        "promotores.shape[0]"
      ]
    },
    {
      "cell_type": "code",
      "execution_count": null,
      "id": "4165aaae-b3a9-4ce8-b9ae-36601b5811d7",
      "metadata": {
        "id": "4165aaae-b3a9-4ce8-b9ae-36601b5811d7",
        "outputId": "3f1fe77d-16b4-4c75-e9b2-d69b334b1685"
      },
      "outputs": [
        {
          "name": "stdout",
          "output_type": "stream",
          "text": [
            "O valor do CSAT do app Meu SUS Digital é igual a 60.43%\n"
          ]
        }
      ],
      "source": [
        "csat = np.round((promotores.shape[0]/df.shape[0])*100,2)\n",
        "print('O valor do CSAT do app Meu SUS Digital é igual a {:.2f}%'.format(csat))"
      ]
    },
    {
      "cell_type": "code",
      "execution_count": null,
      "id": "d6b74e61-3124-4072-bb97-9e53dfe09d6d",
      "metadata": {
        "id": "d6b74e61-3124-4072-bb97-9e53dfe09d6d",
        "outputId": "b73d7b01-ef34-4e30-fed0-c4a25872ef77"
      },
      "outputs": [
        {
          "data": {
            "image/png": "[encoded data removed]",
            "text/plain": [
              "<Figure size 1000x600 with 1 Axes>"
            ]
          },
          "metadata": {},
          "output_type": "display_data"
        }
      ],
      "source": [
        "plt.figure(figsize=(10, 6))\n",
        "sns.barplot(x=df.score.value_counts().index, y=df.score.value_counts().values, data=df, color='blue')\n",
        "plt.xticks(rotation=45)\n",
        "plt.xlabel('Score')\n",
        "plt.ylabel('Quantidade de Reviews')\n",
        "plt.title('Quantidade de Reviews por Score')\n",
        "plt.tight_layout()\n",
        "plt.show()"
      ]
    },
    {
      "cell_type": "code",
      "execution_count": null,
      "id": "9e3c902e-ed37-4e60-92e8-09935b61745e",
      "metadata": {
        "id": "9e3c902e-ed37-4e60-92e8-09935b61745e",
        "outputId": "53c0d999-b90a-41ce-aa76-19e2752d53b8"
      },
      "outputs": [
        {
          "data": {
            "text/html": [
              "<div>\n",
              "<style scoped>\n",
              "    .dataframe tbody tr th:only-of-type {\n",
              "        vertical-align: middle;\n",
              "    }\n",
              "\n",
              "    .dataframe tbody tr th {\n",
              "        vertical-align: top;\n",
              "    }\n",
              "\n",
              "    .dataframe thead th {\n",
              "        text-align: right;\n",
              "    }\n",
              "</style>\n",
              "<table border=\"1\" class=\"dataframe\">\n",
              "  <thead>\n",
              "    <tr style=\"text-align: right;\">\n",
              "      <th></th>\n",
              "      <th>at</th>\n",
              "      <th>appVersion</th>\n",
              "      <th>csat</th>\n",
              "    </tr>\n",
              "  </thead>\n",
              "  <tbody>\n",
              "    <tr>\n",
              "      <th>0</th>\n",
              "      <td>04/08/2024</td>\n",
              "      <td>72.9.00</td>\n",
              "      <td>0.000000</td>\n",
              "    </tr>\n",
              "    <tr>\n",
              "      <th>1</th>\n",
              "      <td>04/08/2024</td>\n",
              "      <td>73.10.00</td>\n",
              "      <td>70.588235</td>\n",
              "    </tr>\n",
              "    <tr>\n",
              "      <th>2</th>\n",
              "      <td>04/09/2024</td>\n",
              "      <td>70.0.3</td>\n",
              "      <td>0.000000</td>\n",
              "    </tr>\n",
              "    <tr>\n",
              "      <th>3</th>\n",
              "      <td>04/09/2024</td>\n",
              "      <td>71.1.3</td>\n",
              "      <td>100.000000</td>\n",
              "    </tr>\n",
              "    <tr>\n",
              "      <th>4</th>\n",
              "      <td>04/09/2024</td>\n",
              "      <td>73.10.00</td>\n",
              "      <td>76.666667</td>\n",
              "    </tr>\n",
              "    <tr>\n",
              "      <th>...</th>\n",
              "      <td>...</td>\n",
              "      <td>...</td>\n",
              "      <td>...</td>\n",
              "    </tr>\n",
              "    <tr>\n",
              "      <th>67</th>\n",
              "      <td>05/11/2024</td>\n",
              "      <td>73.13.00</td>\n",
              "      <td>62.500000</td>\n",
              "    </tr>\n",
              "    <tr>\n",
              "      <th>68</th>\n",
              "      <td>05/11/2024</td>\n",
              "      <td>73.13.01</td>\n",
              "      <td>0.000000</td>\n",
              "    </tr>\n",
              "    <tr>\n",
              "      <th>69</th>\n",
              "      <td>05/12/2024</td>\n",
              "      <td>73.13.00</td>\n",
              "      <td>0.000000</td>\n",
              "    </tr>\n",
              "    <tr>\n",
              "      <th>70</th>\n",
              "      <td>05/12/2024</td>\n",
              "      <td>73.13.01</td>\n",
              "      <td>20.000000</td>\n",
              "    </tr>\n",
              "    <tr>\n",
              "      <th>71</th>\n",
              "      <td>05/13/2024</td>\n",
              "      <td>73.13.01</td>\n",
              "      <td>0.000000</td>\n",
              "    </tr>\n",
              "  </tbody>\n",
              "</table>\n",
              "<p>72 rows × 3 columns</p>\n",
              "</div>"
            ],
            "text/plain": [
              "            at appVersion        csat\n",
              "0   04/08/2024    72.9.00    0.000000\n",
              "1   04/08/2024   73.10.00   70.588235\n",
              "2   04/09/2024     70.0.3    0.000000\n",
              "3   04/09/2024     71.1.3  100.000000\n",
              "4   04/09/2024   73.10.00   76.666667\n",
              "..         ...        ...         ...\n",
              "67  05/11/2024   73.13.00   62.500000\n",
              "68  05/11/2024   73.13.01    0.000000\n",
              "69  05/12/2024   73.13.00    0.000000\n",
              "70  05/12/2024   73.13.01   20.000000\n",
              "71  05/13/2024   73.13.01    0.000000\n",
              "\n",
              "[72 rows x 3 columns]"
            ]
          },
          "execution_count": 32,
          "metadata": {},
          "output_type": "execute_result"
        }
      ],
      "source": [
        "df['csat'] = df['score'].apply(lambda x: 1 if x >= 4 else 0)\n",
        "\n",
        "# Crie a tabela dinâmica\n",
        "tabela_dinamica = df.pivot_table(values='csat', index=['at', 'appVersion'], aggfunc='mean')\n",
        "\n",
        "# Multiplique por 100 para obter a porcentagem\n",
        "tabela_dinamica = tabela_dinamica * 100\n",
        "tabela_dinamica = tabela_dinamica.reset_index()\n",
        "tabela_dinamica"
      ]
    },
    {
      "cell_type": "code",
      "execution_count": null,
      "id": "389db887-09cd-47fe-bd70-4fd67092f611",
      "metadata": {
        "id": "389db887-09cd-47fe-bd70-4fd67092f611",
        "outputId": "766cf349-4db8-4cf1-f5f3-48b053400cb2"
      },
      "outputs": [
        {
          "data": {
            "image/png": "[encoded data removed]",
            "text/plain": [
              "<Figure size 1000x600 with 1 Axes>"
            ]
          },
          "metadata": {},
          "output_type": "display_data"
        }
      ],
      "source": [
        "plt.figure(figsize=(10, 6))\n",
        "sns.barplot(x=tabela_dinamica.groupby('appVersion').csat.mean().index,\n",
        "            y=tabela_dinamica.groupby('appVersion').csat.mean().values, data=tabela_dinamica, color='blue')\n",
        "plt.xticks(rotation=45)\n",
        "plt.xlabel('Versão do APP')\n",
        "plt.ylabel('Satisfação')\n",
        "plt.title('Satisfação por Versão do APP')\n",
        "plt.tight_layout()\n",
        "plt.show()"
      ]
    },
    {
      "cell_type": "code",
      "execution_count": null,
      "id": "a0301a92-dbdb-44cc-bd1e-f412dbebed4e",
      "metadata": {
        "id": "a0301a92-dbdb-44cc-bd1e-f412dbebed4e",
        "outputId": "9f7451cf-2a2b-4660-f490-e82067fb8735"
      },
      "outputs": [
        {
          "name": "stderr",
          "output_type": "stream",
          "text": [
            "C:\\ProgramData\\anaconda3\\Lib\\site-packages\\seaborn\\_oldcore.py:1119: FutureWarning: use_inf_as_na option is deprecated and will be removed in a future version. Convert inf values to NaN before operating instead.\n",
            "  with pd.option_context('mode.use_inf_as_na', True):\n",
            "C:\\ProgramData\\anaconda3\\Lib\\site-packages\\seaborn\\_oldcore.py:1119: FutureWarning: use_inf_as_na option is deprecated and will be removed in a future version. Convert inf values to NaN before operating instead.\n",
            "  with pd.option_context('mode.use_inf_as_na', True):\n"
          ]
        },
        {
          "data": {
            "image/png": "[encoded data removed]",
            "text/plain": [
              "<Figure size 1000x600 with 1 Axes>"
            ]
          },
          "metadata": {},
          "output_type": "display_data"
        }
      ],
      "source": [
        "plt.figure(figsize=(10, 6))\n",
        "sns.lineplot(x=tabela_dinamica.groupby('at').csat.mean().index,\n",
        "            y=tabela_dinamica.groupby('at').csat.mean().values, data=tabela_dinamica.groupby('at').csat.mean(), color='blue')\n",
        "plt.xticks(rotation=45)\n",
        "plt.xlabel('Dia do Review')\n",
        "plt.ylabel('Satisfação')\n",
        "plt.title('Satisfação por Dia')\n",
        "plt.tight_layout()\n",
        "plt.show()"
      ]
    },
    {
      "cell_type": "code",
      "execution_count": null,
      "id": "f72d619a-71cb-4895-9c7c-c28e445febea",
      "metadata": {
        "id": "f72d619a-71cb-4895-9c7c-c28e445febea"
      },
      "outputs": [],
      "source": [
        "reviews = df['content'].to_list()"
      ]
    },
    {
      "cell_type": "code",
      "execution_count": null,
      "id": "941fc3c3-6cf4-4472-9776-f65f13508c06",
      "metadata": {
        "id": "941fc3c3-6cf4-4472-9776-f65f13508c06"
      },
      "outputs": [],
      "source": [
        "# Incorpore os reviews no histórico do chat\n",
        "initial_prompt = \"O aplicativo Meu SUS Digital permite que o cidadão acompanhe, na palma da mão, o seu histórico clínico e acesse diversas soluções para que ele seja o protagonista da sua saúde. \\n\n",
        "                  É um compromisso contínuo do Governo Federal e do Ministério da Saúde em aprimorar a experiência do usuário e fortalecer o SUS. Aqui estão alguns reviews do aplicativo:\\n\\n\" + \"\\n\".join(reviews)\n",
        "\n",
        "convo = model.start_chat(history=[\n",
        "    {\"role\": \"user\", \"parts\": initial_prompt}\n",
        "])"
      ]
    },
    {
      "cell_type": "code",
      "execution_count": null,
      "id": "2c547252-7ccb-477c-a535-4d5de44b0ca2",
      "metadata": {
        "id": "2c547252-7ccb-477c-a535-4d5de44b0ca2",
        "outputId": "c6af1a1e-480d-4019-b2a6-9e81c7dcf2aa"
      },
      "outputs": [
        {
          "name": "stdout",
          "output_type": "stream",
          "text": [
            "A análise dos reviews do aplicativo Meu SUS Digital revela uma forte dicotomia na opinião dos usuários em relação às suas funcionalidades. \n",
            "\n",
            "**Pontos Positivos:**\n",
            "\n",
            "* **Funcionalidades básicas apreciadas:** Muitos usuários reconhecem e apreciam a funcionalidade principal do aplicativo, como o acesso rápido ao histórico de vacinação, especialmente para COVID-19, e ao número do cartão SUS. A praticidade de ter essa informação na palma da mão é frequentemente elogiada.\n",
            "* **Programa Dignidade Menstrual:** Usuários mencionam o programa de absorventes gratuitos como um ponto positivo, reconhecendo o impacto social da iniciativa.\n",
            "\n",
            "**Pontos Negativos:**\n",
            "\n",
            "* **Funcionalidades frequentemente falham:** As maiores frustrações se concentram nas funcionalidades que frequentemente falham ou apresentam erros. A emissão de certificados de vacinação, especialmente em português, é alvo de diversas reclamações. A dificuldade em baixar o PDF da carteira de vacinação também é recorrente.\n",
            "* **Informações desatualizadas ou incompletas:** Usuários relatam que o histórico de vacinas, exames e consultas muitas vezes está incompleto ou desatualizado. A ausência de informações sobre outras vacinas além da COVID-19 é uma crítica comum.\n",
            "* **Problemas de login e interface:**  A necessidade constante de logar pelo Gov.br, lentidão no carregamento, travamentos e erros de login são problemas frequentes que geram grande frustração. A interface do aplicativo também é considerada confusa e pouco intuitiva por alguns.\n",
            "* **Falta de funcionalidades essenciais:** A ausência de funcionalidades importantes como agendamento de consultas, visualização de resultados de exames e solicitação de medicamentos é uma crítica recorrente. Usuários esperam um aplicativo mais completo e integrado ao sistema SUS.\n",
            "\n",
            "**Em resumo:**\n",
            "\n",
            "Enquanto os usuários reconhecem o potencial do aplicativo Meu SUS Digital e apreciam algumas funcionalidades básicas, a experiência geral é prejudicada por erros frequentes, informações desatualizadas e falta de funcionalidades essenciais. A percepção geral é de que o aplicativo ainda precisa de aprimoramentos significativos para se tornar uma ferramenta verdadeiramente útil e confiável para os usuários do SUS. \n",
            "\n"
          ]
        }
      ],
      "source": [
        "convo.send_message(\"Como os usuarios se sentem com relação a funcionalidades do app?\")\n",
        "print(convo.last.text)"
      ]
    },
    {
      "cell_type": "code",
      "execution_count": null,
      "id": "ebe9b82e-85db-44a3-ac06-0ccdc4e61396",
      "metadata": {
        "id": "ebe9b82e-85db-44a3-ac06-0ccdc4e61396",
        "outputId": "2213a389-e77e-4cb3-bf83-3b7ef41713e8"
      },
      "outputs": [
        {
          "name": "stdout",
          "output_type": "stream",
          "text": [
            "Dentro da amostragem fornecida, pelo menos **7 usuários** mencionaram explicitamente a dificuldade em baixar o certificado de vacinação. As reclamações se concentram em erros no download,  emissão apenas em inglês ou espanhol, e a falta de funcionalidade para gerar o PDF.\n",
            "\n",
            "Aqui estão 5 exemplos de reclamações que exigem atenção:\n",
            "\n",
            "1. **\"Não está gerando o certificado de vacinação em Português. Inglês e Espanhol está normal, mas quando selecionar a opção português, apresenta erro.\"** -  Este problema com a língua portuguesa precisa ser resolvido com urgência, pois impede o acesso à informação por grande parte dos usuários brasileiros.\n",
            "2. **\"Fica dando erro toda vez que vou baixar o certificado com às vacinas precisa melhorar muito.\"** -  A recorrência do erro no download indica um problema sistêmico que precisa ser investigado e corrigido.\n",
            "3. **\"Estou a uma semana tentando exportar para (.PDF) as minhas vacinas, porém não consigo e sempre da erro! Não está fazendo o básico esse app!\"** - A incapacidade de realizar uma função básica como exportar um PDF demonstra falhas graves na usabilidade do aplicativo. \n",
            "4. **\"O APP é bom , mas não estou conseguindo acessar minha carteira de vacina , só dar erro , por favor criador desse app ,arruma isso , o APP tem tudo para ser eficaz e bom ,mais esses bugs é ruim\"** -  Este comentário destaca a frustração do usuário com o potencial do aplicativo, que é prejudicado por erros recorrentes.\n",
            "5. **\"App não funciona a Dias\"** -  A falta de funcionamento do aplicativo por dias seguidos indica problemas de instabilidade e falta de manutenção, impactando negativamente a experiência do usuário.\n",
            "\n",
            "É fundamental que os desenvolvedores do Meu SUS Digital deem atenção a esses problemas e trabalhem para garantir que a funcionalidade de baixar o certificado de vacinação seja confiável e acessível a todos os usuários. A correção destes erros e a implementação de melhorias na usabilidade são essenciais para que o aplicativo cumpra seu objetivo de fortalecer o SUS e empoderar os cidadãos na gestão de sua saúde. \n",
            "\n"
          ]
        }
      ],
      "source": [
        "convo.send_message(\"Dentro dessa amostragem, quantos usuarios reclamaram sobre a dificuldade em baixar o certificado de vacinação e quais as reclamações que precisam de mais atenção (me traga 5 exemplos)?\")\n",
        "print(convo.last.text)"
      ]
    },
    {
      "cell_type": "code",
      "execution_count": null,
      "id": "5b78e046-d1c3-42ee-8ecb-68bd6157addd",
      "metadata": {
        "id": "5b78e046-d1c3-42ee-8ecb-68bd6157addd",
        "outputId": "51d3d3e2-d7ee-42d1-9ee3-ee6265475297"
      },
      "outputs": [
        {
          "name": "stdout",
          "output_type": "stream",
          "text": [
            "Embora haja problemas relatados em diversas funcionalidades do Meu SUS Digital, a emissão e download do certificado de vacinação, especialmente a **carteira nacional de vacinação**, se destaca como a funcionalidade mais problemática e alvo de críticas recorrentes. \n",
            "\n",
            "Usuários relatam:\n",
            "\n",
            "* **Erros frequentes no download:**  \"Fica dando erro toda vez que vou baixar o certificado\", \"Não estou conseguindo baixar a carteira de vacinação digital. Erro.\"\n",
            "* **Impossibilidade de gerar o PDF:** \"O APP é bom, mas não estou conseguindo acessar minha carteira de vacina, só dar erro\", \"Não consigo baixar a carteira de vacinação digital. Aparecendo mensagem de que não foi possível baixar documento\".\n",
            "* **Certificado emitido apenas em inglês ou espanhol:** \"Não está gerando o certificado de vacinação em Português. Inglês e Espanhol está normal, mas quando selecionar a opção português, apresenta erro.\"\n",
            "\n",
            "Essa concentração de problemas em uma funcionalidade específica sugere que a falha pode estar relacionada ao código ou à integração com o sistema de registro de vacinas. \n",
            "\n",
            "Enquanto outras funcionalidades também apresentam problemas, como lentidão, travamentos e erros de login, as reclamações sobre a emissão da carteira de vacinação são mais numerosas e demonstram uma falha crítica que impede o uso adequado do aplicativo. \n",
            "\n",
            "A equipe de desenvolvimento do Meu SUS Digital precisa priorizar a resolução dos problemas relacionados à carteira de vacinação, realizando testes e correções para garantir que a funcionalidade seja confiável e atenda às necessidades dos usuários. \n",
            "\n"
          ]
        }
      ],
      "source": [
        "convo.send_message(\"Com relação a instabilidades e bugs, existe alguma funcionalidade em especifico que traz mais problemas ou os usuarios relatam de forma geral?\")\n",
        "print(convo.last.text)"
      ]
    },
    {
      "cell_type": "code",
      "execution_count": null,
      "id": "d07fe6be-086d-42d5-9cec-346ba42739ea",
      "metadata": {
        "id": "d07fe6be-086d-42d5-9cec-346ba42739ea",
        "outputId": "f7febfcd-61d0-4a5e-a0f7-af02f23cb53e"
      },
      "outputs": [
        {
          "name": "stdout",
          "output_type": "stream",
          "text": [
            "Sim, diversos usuários relatam problemas após atualizações do aplicativo Meu SUS Digital. As reclamações mais frequentes são:\n",
            "\n",
            "* **App não abre ou fica com a tela branca:** Usuários reportam que o aplicativo simplesmente não abre mais ou fica preso em uma tela branca após a atualização.\n",
            "* **Login impossível:**  Problemas com o login, como a incapacidade de gerar o código de verificação em duas etapas, são mencionados após atualizações.\n",
            "* **Funcionalidades que deixam de funcionar:**  Funcionalidades que antes funcionavam, como o acesso à carteira de vacinação, passam a apresentar erros após a atualização.\n",
            "* **Lentidão e travamentos:**  O aplicativo se torna mais lento e sujeito a travamentos após atualizações.\n",
            "\n",
            "**5 exemplos de comentários:**\n",
            "\n",
            "1. **\"Após o login só fica carregando mas não aparece nada :(\"** -  Este usuário relata o problema da tela de carregamento infinito após a atualização.\n",
            "2. **\"A atual versão: 73.13.01 não está rodando no Redmi Note 8 Pro. Testei umas versões anteriores e também não rodou. Apenas tela branca.\"** -  Este comentário demonstra que a atualização causou incompatibilidade com um modelo específico de celular.\n",
            "3. **\"Desde a última atualização, não está funcionando bem em nenhum celular! Fica somente \"rodando\" e \"rodando\" e não entra nunca na página principal ou em qualquer outra.\"** -  Este usuário relata que a atualização prejudicou o funcionamento do aplicativo em diversos dispositivos.\n",
            "4. **\"Após a atualização, TODO meu histórico de vacinação SUMIU !!! Que raio de atualização é esta???\"** -  A perda de dados após a atualização é um problema grave que causa grande frustração e desconfiança no aplicativo.\n",
            "5.  **\"Desde que mudou para o meu SUS digital o app não abre, fica apenas carregando, precisei do app quando fui até uma unidade de saúde e ele não abriu, preciso agora pegar meus comprovantes de vacina e novamente não carrega, a atualização não trouxe nenhum benefício.\"** - Este usuário relata a frustração de a atualização ter tornado o aplicativo inutilizável.\n",
            "\n",
            "É fundamental que os desenvolvedores do Meu SUS Digital realizem testes rigorosos antes de lançar atualizações, garantindo que as novas versões não introduzam novos erros ou prejudiquem funcionalidades existentes. A comunicação transparente sobre as mudanças implementadas em cada atualização também é crucial para evitar frustrações e perda de confiança por parte dos usuários. \n",
            "\n"
          ]
        }
      ],
      "source": [
        "convo.send_message(\"Existem comentarios de erros após atualização do app, se sim, me informe os mais frequentes e me traga 5 exemplos?\")\n",
        "print(convo.last.text)"
      ]
    },
    {
      "cell_type": "code",
      "execution_count": null,
      "id": "9f51f832-9455-4924-8ec7-371313d952c7",
      "metadata": {
        "id": "9f51f832-9455-4924-8ec7-371313d952c7",
        "outputId": "5d164d8d-267f-4fab-bc48-a01b8ffbf514"
      },
      "outputs": [
        {
          "name": "stdout",
          "output_type": "stream",
          "text": [
            "Apesar das críticas, muitos usuários reconhecem os benefícios do app Meu SUS Digital e tecem elogios importantes, principalmente em relação a:\n",
            "\n",
            "**Praticidade e Facilidade de Acesso:**\n",
            "\n",
            "* A praticidade de ter informações importantes como o número do cartão SUS e o histórico de vacinação na palma da mão é um dos elogios mais frequentes. Usuários destacam a facilidade de acesso e a conveniência de não precisar carregar documentos físicos.\n",
            "* A interface do aplicativo, apesar de algumas críticas, é considerada intuitiva e fácil de usar por muitos usuários. \n",
            "\n",
            "**Cartão de Vacinação Digital:**\n",
            "\n",
            "* A possibilidade de ter a carteira de vacinação digital é muito apreciada, especialmente para comprovar a vacinação contra COVID-19. \n",
            "* Usuários elogiam a organização e facilidade de visualizar as doses recebidas.\n",
            "\n",
            "**Programa Dignidade Menstrual:**\n",
            "\n",
            "* O programa de absorventes gratuitos é reconhecido como um ponto extremamente positivo, com usuários elogiando a iniciativa e o impacto social do programa.\n",
            "\n",
            "**Informação e Conscientização:**\n",
            "\n",
            "* Alguns usuários elogiam o aplicativo por fornecer informações relevantes sobre saúde e qualidade de vida, contribuindo para a conscientização e educação em saúde.\n",
            "\n",
            "**Exemplos de comentários positivos:**\n",
            "\n",
            "* \"Muito bom, fácil de manusear!\"\n",
            "* \"Parabéns pois tem ajudado muito por ter absorventes gratuitamente\"\n",
            "* \"excelente aplicativo\"\n",
            "* \"Muito eficiente com todas informações atualizadas.\"\n",
            "* \"Otimo\"\n",
            "* \"Excelente\"\n",
            "* \"Top\"\n",
            "* \"Show\"\n",
            "\n",
            "Em resumo, os usuários reconhecem o potencial do Meu SUS Digital para facilitar o acesso à informação e a serviços de saúde. A praticidade, a carteira de vacinação digital e o programa Dignidade Menstrual são os pontos mais elogiados. No entanto, é fundamental que os desenvolvedores se concentrem em corrigir os erros e aprimorar a estabilidade do aplicativo para que ele possa cumprir plenamente seu objetivo de empoderar os cidadãos na gestão de sua saúde. \n",
            "\n"
          ]
        }
      ],
      "source": [
        "convo.send_message(\"Deixando de fora os problemas, quais os principais elogios que os usuarios fazem ao app?\")\n",
        "print(convo.last.text)"
      ]
    },
    {
      "cell_type": "code",
      "execution_count": null,
      "id": "08563637-763e-45c8-94de-59742c9db45b",
      "metadata": {
        "id": "08563637-763e-45c8-94de-59742c9db45b",
        "outputId": "479310ea-908d-46e3-ebe6-1967f26fc46e"
      },
      "outputs": [
        {
          "name": "stdout",
          "output_type": "stream",
          "text": [
            "Analisando os comentários fornecidos, considerando a categorização proposta, temos a seguinte classificação:\n",
            "\n",
            "**Ruim:** 43 comentários\n",
            "\n",
            "* **Exemplos:**\n",
            "    * \"Lixo até não querer mais,ele trava e não gera os PDF corretamente\"\n",
            "    * \"O aplicativo é muito ruim, trava muito não merece nem estrela.\"\n",
            "\n",
            "**Neutro:** 24 comentários\n",
            "\n",
            "* **Exemplos:**\n",
            "    * \"O aplicativo e bom,mas está dando erro pra baixar certificado na versão BRA podiam verificar pq ocorre\"\n",
            "    * \"O APP é bom , mas não estou conseguindo acessar minha carteira de vacina , só dar erro , por favor criador desse app ,arruma isso , o APP tem tudo para ser eficaz e bom ,mais esses bugs é ruim\"\n",
            "\n",
            "**Bom:** 41 comentários\n",
            "\n",
            "* **Exemplos:** \n",
            "    * \"Muito bom, fácil de manusear!\"\n",
            "    * \"Top\"\n",
            "\n",
            "\n",
            "Vale salientar que essa classificação é subjetiva e baseada em uma análise superficial dos comentários. Um sistema de análise de sentimentos mais preciso exigiria técnicas de Processamento de Linguagem Natural (PNL) para interpretar nuances e contextos em cada frase. \n",
            "\n",
            "Mesmo com essa ressalva, a análise demonstra que a maioria dos usuários (41) expressa sentimentos positivos em relação ao app, enquanto um número significativo (43) demonstra clara insatisfação.  A presença de um número considerável de usuários com sentimentos neutros (24) sugere que o aplicativo possui potencial, mas precisa de aprimoramentos para satisfazer as expectativas de todos os usuários. \n",
            "\n"
          ]
        }
      ],
      "source": [
        "convo.send_message(\"Preciso classificar o sentimento dos usuarios atraves dos comentarios em ruim, neutro ou bom. No qual ruim a pessoa não falou nada de bom; neutro ela tem reclamações, mas também acha que o app é funcional; bom quando só tem elogios (pode ser do tipo bom, top, show). Me traga quantos comentarios para cada categoria e 2 exemplos de cada comentario e categoria\")\n",
        "print(convo.last.text)"
      ]
    },
    {
      "cell_type": "code",
      "source": [],
      "metadata": {
        "id": "HY3Hb16eAw-A"
      },
      "id": "HY3Hb16eAw-A",
      "execution_count": null,
      "outputs": []
    },
    {
      "cell_type": "code",
      "execution_count": null,
      "id": "bfed67b0-4b80-4735-b719-bc139231435e",
      "metadata": {
        "id": "bfed67b0-4b80-4735-b719-bc139231435e"
      },
      "outputs": [],
      "source": []
    }
  ],
  "metadata": {
    "kernelspec": {
      "display_name": "Python 3 (ipykernel)",
      "language": "python",
      "name": "python3"
    },
    "language_info": {
      "codemirror_mode": {
        "name": "ipython",
        "version": 3
      },
      "file_extension": ".py",
      "mimetype": "text/x-python",
      "name": "python",
      "nbconvert_exporter": "python",
      "pygments_lexer": "ipython3",
      "version": "3.11.7"
    },
    "colab": {
      "provenance": [],
      "include_colab_link": true
    }
  },
  "nbformat": 4,
  "nbformat_minor": 5
}